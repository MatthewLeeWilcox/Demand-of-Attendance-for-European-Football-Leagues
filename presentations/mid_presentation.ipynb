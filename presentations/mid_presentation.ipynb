{
  "cells": [
    {
      "cell_type": "raw",
      "metadata": {},
      "source": [
        "---\n",
        "title: Demand of Football in European Leagues\n",
        "author: Matthew Wilcox\n",
        "format: revealjs\n",
        "---"
      ],
      "id": "ffa2d7a5"
    },
    {
      "cell_type": "code",
      "metadata": {},
      "source": [
        "import pandas as pd\n",
        "import numpy as np\n",
        "import seaborn as sns\n",
        "import matplotlib.pyplot as plt"
      ],
      "id": "6969ec4f",
      "execution_count": null,
      "outputs": []
    },
    {
      "cell_type": "markdown",
      "metadata": {},
      "source": [
        "## Background\n",
        "\n",
        "## Dataset\n",
        "\n",
        "- Combined Data sets from Football-Data.co.uk and worldfootball.net\n",
        "- Shrunk data from 107 columns to 38\n",
        "- Data is from 2010-2019\n",
        "- Conisists of 53,238 rows\n"
      ],
      "id": "aeb4098d"
    },
    {
      "cell_type": "code",
      "metadata": {},
      "source": [
        "total_data_set = pd.read_pickle('d:/Python Work/Capstone/data/final_datasets/total_data.pkl')\n",
        "print(total_data_set.columns)"
      ],
      "id": "c627cef0",
      "execution_count": null,
      "outputs": []
    },
    {
      "cell_type": "markdown",
      "metadata": {},
      "source": [
        "## Progress\n",
        "\n",
        "## Day of the Week Capacity Filled"
      ],
      "id": "6c870a5a"
    },
    {
      "cell_type": "code",
      "metadata": {},
      "source": [
        "time_df = pd.read_pickle('d:/Python Work/Capstone/data/final_datasets/time_shrink.pkl')\n",
        "\n",
        "df_grouped_mean = time_df.groupby('day_of_week')['raw_attendance', 'capacity_filled'].mean().reset_index()\n",
        "df_grouped_median = time_df.groupby('day_of_week')['raw_attendance', 'capacity_filled'].median().reset_index()\n",
        "\n",
        "day_categories = ['Monday', 'Tuesday', 'Wednesday', 'Thursday', 'Friday', 'Saturday', 'Sunday']\n",
        "df_grouped_median['day_of_week'] = pd.Categorical(df_grouped_median['day_of_week'], categories= day_categories)\n",
        "df_grouped_median.sort_values(by = 'day_of_week', inplace = True)\n",
        "\n",
        "sns.barplot(data=df_grouped_median, x = 'day_of_week', y = 'capacity_filled').set(title ='Median Capacity Filled')\n",
        "plt.xticks(rotation=90)\n",
        "plt.xlabel('Day of the Week')\n",
        "plt.ylabel('Capacity Filled')\n",
        "plt.show()"
      ],
      "id": "d6e49db6",
      "execution_count": null,
      "outputs": []
    },
    {
      "cell_type": "markdown",
      "metadata": {},
      "source": [
        "## Day of the Week Attendance"
      ],
      "id": "68a2bfc5"
    },
    {
      "cell_type": "code",
      "metadata": {},
      "source": [
        "sns.barplot(data=df_grouped_median, x = 'day_of_week', y = 'raw_attendance').set(title ='Median Attendance')\n",
        "plt.xticks(rotation=90)\n",
        "plt.ylabel('Attendance')\n",
        "\n",
        "\n",
        "plt.show()"
      ],
      "id": "85d255d9",
      "execution_count": null,
      "outputs": []
    },
    {
      "cell_type": "markdown",
      "metadata": {},
      "source": [
        "## Day of the Week total Count\n"
      ],
      "id": "52bae258"
    },
    {
      "cell_type": "code",
      "metadata": {},
      "source": [
        "grouped_week_count = time_df.groupby('day_of_week').count().reset_index()\n",
        "\n",
        "grouped_week_count['day_of_week'] = pd.Categorical(grouped_week_count['day_of_week'], categories= day_categories)\n",
        "grouped_week_count.sort_values(by = 'day_of_week', inplace = True)\n",
        "\n",
        "\n",
        "sns.barplot(data = grouped_week_count, x = 'day_of_week', y = 'date')\n",
        "plt.xlabel('Day of the Week')\n",
        "plt.ylabel('Count')\n",
        "plt.title('Number of games per day of the Week')\n",
        "plt.show()"
      ],
      "id": "51592085",
      "execution_count": null,
      "outputs": []
    },
    {
      "cell_type": "markdown",
      "metadata": {},
      "source": [
        "## Attendance Time of Day"
      ],
      "id": "456c36b1"
    },
    {
      "cell_type": "code",
      "metadata": {},
      "source": [
        "df_grouped_mean_tod= time_df.groupby(data['date_time'].dt.hour).mean()\n",
        "df_grouped_median_tod= time_df.groupby(data['date_time'].dt.hour).median()\n",
        "\n",
        "\n",
        "sns.lineplot(df_grouped_median_tod, x = 'date_time', y = 'raw_attendance', markers = True, marker = \"o\" )\n",
        "plt.xlabel('Hour of the Day')\n",
        "plt.ylabel('Attendance')\n",
        "plt.show()"
      ],
      "id": "eb79e287",
      "execution_count": null,
      "outputs": []
    },
    {
      "cell_type": "markdown",
      "metadata": {},
      "source": [
        "## Away Teams Impact\n",
        "\n",
        "## Division Capacity\n",
        "\n",
        "## Standardized Away Teams Impact\n",
        "\n",
        "## Setbacks\n",
        "\n",
        "## Future Work\n"
      ],
      "id": "cfe22588"
    }
  ],
  "metadata": {
    "kernelspec": {
      "name": "python3",
      "language": "python",
      "display_name": "Python 3 (ipykernel)"
    }
  },
  "nbformat": 4,
  "nbformat_minor": 5
}