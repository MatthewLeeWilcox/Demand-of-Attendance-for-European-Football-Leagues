{
  "cells": [
    {
      "cell_type": "raw",
      "metadata": {},
      "source": [
        "---\n",
        "title: Demand of Football in European Leagues\n",
        "author: Matthew Wilcox\n",
        "format: revealjs\n",
        "---"
      ],
      "id": "7bbfe478"
    },
    {
      "cell_type": "code",
      "metadata": {},
      "source": [
        "import pandas as pd\n",
        "import numpy as np\n",
        "import seaborn as sns\n",
        "import matplotlib.pyplot as plt"
      ],
      "id": "5c8ebfbc",
      "execution_count": null,
      "outputs": []
    },
    {
      "cell_type": "markdown",
      "metadata": {},
      "source": [
        "## Background\n",
        "\n",
        "- Goal is to Analyze factors that impact European Football teams attendance\n",
        "- Analyzing 21 leagues from 11 countries\n",
        "- Looking at the effect of:\n",
        "  - Time/Date\n",
        "  - The Away Team\n",
        "  - Betting odds\n",
        "\n",
        "## Dataset\n",
        "\n",
        "- Combined Data sets from Football-Data.co.uk and worldfootball.net\n",
        "- Shrunk data from 107 columns to 38\n",
        "- Data is from 2010-2019\n",
        "- Conisists of 53,238 rows\n"
      ],
      "id": "4fe0fbd1"
    },
    {
      "cell_type": "code",
      "metadata": {},
      "source": [
        "total_data_set = pd.read_pickle('d:/Python Work/Capstone/data/final_datasets/total_data.pkl')\n",
        "print(total_data_set.columns)"
      ],
      "id": "4aede59c",
      "execution_count": null,
      "outputs": []
    },
    {
      "cell_type": "markdown",
      "metadata": {},
      "source": [
        "## Progress\n",
        "\n",
        "## Day of the Week Capacity Filled"
      ],
      "id": "b2db39fb"
    },
    {
      "cell_type": "code",
      "metadata": {},
      "source": [
        "time_df = pd.read_pickle('d:/Python Work/Capstone/data/final_datasets/time_shrink.pkl')\n",
        "\n",
        "df_grouped_mean = time_df.groupby('day_of_week')['raw_attendance', 'capacity_filled'].mean().reset_index()\n",
        "df_grouped_median = time_df.groupby('day_of_week')['raw_attendance', 'capacity_filled'].median().reset_index()\n",
        "\n",
        "day_categories = ['Monday', 'Tuesday', 'Wednesday', 'Thursday', 'Friday', 'Saturday', 'Sunday']\n",
        "df_grouped_median['day_of_week'] = pd.Categorical(df_grouped_median['day_of_week'], categories= day_categories)\n",
        "df_grouped_median.sort_values(by = 'day_of_week', inplace = True)\n",
        "\n",
        "sns.barplot(data=df_grouped_median, x = 'day_of_week', y = 'capacity_filled').set(title ='Median Capacity Filled')\n",
        "plt.xticks(rotation=90)\n",
        "plt.xlabel('Day of the Week')\n",
        "plt.ylabel('Capacity Filled')\n",
        "plt.show()"
      ],
      "id": "2b91f591",
      "execution_count": null,
      "outputs": []
    },
    {
      "cell_type": "markdown",
      "metadata": {},
      "source": [
        "## Day of the Week Attendance"
      ],
      "id": "78deb887"
    },
    {
      "cell_type": "code",
      "metadata": {},
      "source": [
        "sns.barplot(data=df_grouped_median, x = 'day_of_week', y = 'raw_attendance').set(title ='Median Attendance')\n",
        "plt.xticks(rotation=90)\n",
        "plt.ylabel('Attendance')\n",
        "plt.xlabel('Day of Week')\n",
        "\n",
        "\n",
        "plt.show()"
      ],
      "id": "adce0d04",
      "execution_count": null,
      "outputs": []
    },
    {
      "cell_type": "markdown",
      "metadata": {},
      "source": [
        "## Day of the Week total Count\n"
      ],
      "id": "d707b744"
    },
    {
      "cell_type": "code",
      "metadata": {},
      "source": [
        "grouped_week_count = time_df.groupby('day_of_week').count().reset_index()\n",
        "\n",
        "grouped_week_count['day_of_week'] = pd.Categorical(grouped_week_count['day_of_week'], categories= day_categories)\n",
        "grouped_week_count.sort_values(by = 'day_of_week', inplace = True)\n",
        "\n",
        "\n",
        "sns.barplot(data = grouped_week_count, x = 'day_of_week', y = 'date')\n",
        "plt.xlabel('Day of the Week')\n",
        "plt.ylabel('Count')\n",
        "plt.title('Number of games per day of the Week')\n",
        "plt.show()"
      ],
      "id": "13a1e3e2",
      "execution_count": null,
      "outputs": []
    },
    {
      "cell_type": "markdown",
      "metadata": {},
      "source": [
        "## Attendance Time of Day"
      ],
      "id": "3abedc86"
    },
    {
      "cell_type": "code",
      "metadata": {},
      "source": [
        "df_grouped_mean_tod= time_df.groupby(time_df['date_time'].dt.hour).mean()\n",
        "df_grouped_median_tod= time_df.groupby(time_df['date_time'].dt.hour).median()\n",
        "\n",
        "\n",
        "sns.lineplot(data = df_grouped_median_tod, x = 'date_time', y = 'raw_attendance', markers = True, marker = \"o\" )\n",
        "plt.title('Attendance by Time of Day')\n",
        "plt.xlabel('Hour of the Day')\n",
        "plt.ylabel('Attendance')\n",
        "plt.show()"
      ],
      "id": "52a593eb",
      "execution_count": null,
      "outputs": []
    },
    {
      "cell_type": "markdown",
      "metadata": {},
      "source": [
        "## Number of Games Time of Day"
      ],
      "id": "8c6cb050"
    },
    {
      "cell_type": "code",
      "metadata": {},
      "source": [
        "df_grouped_count = time_df.groupby(time_df['date_time'].dt.hour).count().reset_index\n",
        "# df_grouped_count= df_grouped_count.rename(columns = {'date':'count'})\n",
        "print(df_grouped_count)\n",
        "# sns.lineplot(data = df_grouped_median_tod, x = 'date_time', y = 'raw_attendance', markers = True, marker = \"o\" )\n",
        "# ax2 = plt.twinx()\n",
        "sns.lineplot(data = df_grouped_count, x = 'date_time', y = 'raw_attendance', markers = True, marker = \"o\" )\n",
        "\n",
        "\n",
        "plt.show()"
      ],
      "id": "1a63815b",
      "execution_count": null,
      "outputs": []
    },
    {
      "cell_type": "markdown",
      "metadata": {},
      "source": [
        "## Away Teams Impact Best Teams"
      ],
      "id": "c3e8543e"
    },
    {
      "cell_type": "code",
      "metadata": {},
      "source": [
        "impact_data = total_data_set[total_data_set.division != 'SC2']\n",
        "impact_data = impact_data[['home_team', 'away_team', 'date_time', 'division', 'raw_attendance', 'capacity_filled']]\n",
        "impact_data['year']= impact_data['date_time'].dt.year\n",
        "impact_data = impact_data.dropna()\n",
        "\n",
        "average_team_attendance = impact_data.groupby(['year', 'home_team']).mean().reset_index().rename(columns = {'raw_attendance':'avg_raw_attendance', 'capacity_filled':'avg_capacity_filled'})\n",
        "standard_dev_attendance = impact_data.groupby(['year', 'home_team']).std().reset_index().rename(columns = {'raw_attendance':'std_raw_attendance', 'capacity_filled':'std_capacity_filled'})\n",
        "\n",
        "\n",
        "# print(average_team_attendance)\n",
        "# print(standard_dev_attendance)\n",
        "avg_df = pd.merge(impact_data,average_team_attendance, on = ['year','home_team'])\n",
        "avg_df = pd.merge(avg_df, standard_dev_attendance, on = ['year', 'home_team'])\n",
        "# print(avg_df)\n",
        "# print(avg_df.isna().sum())\n",
        "avg_df['away_team_impact'] = avg_df['raw_attendance'] - avg_df['avg_raw_attendance']\n",
        "avg_df['attendance_zscore'] = (avg_df['raw_attendance']- avg_df['avg_raw_attendance'])/avg_df['std_raw_attendance']\n",
        "\n",
        "# print(avg_df.sort_values('attendance_zscore'))\n",
        "# avg_df.to_csv('src/Teams_impact/avg_df.csv')\n",
        "away_team_impact = avg_df.groupby(['away_team', 'division']).mean().reset_index()\n",
        "away_team_impact = away_team_impact[['away_team', 'attendance_zscore', 'away_team_impact','division']].reset_index()\n",
        "\n",
        "away_top_30 = away_team_impact.sort_values('away_team_impact', ascending = False).head(30).sort_values(['division', 'away_team_impact'], ascending= [True, False])\n",
        "\n",
        "div_dict = {'D1':'Bundesliga', 'D2': '2. Bundesliga', 'E0':'Premier League', 'E1':'Championship', \n",
        "            'E2':'League 1', 'E3':'Leauge 2','SP1':'La Liga Primera', 'SP2':'La Liga Segunda',\n",
        "              'B1':'Jupiler League', 'F1':'Ligue 1','F2':'Ligue 2','I1':'Serie A','I2':'Seire B', \n",
        "              'SC0':'Scotish Premier League', 'SC1':'Scotish Division 1', 'T1':'Fubol Ligi 1'}\n",
        "away_top_30 = away_top_30.replace({'division':div_dict})\n",
        "# div_avg = div_avg.replace({'division':div_dict})\n",
        "# print(away_top_30)\n",
        "\n",
        "\n",
        "sns.barplot(data = away_top_30, x = 'away_team_impact', y = 'away_team', hue = 'division', dodge = False)\n",
        "plt.title('Away Teams Impact on Attendance: Top 30 Teams')\n",
        "plt.xlabel('Mean Attendnace Increase')\n",
        "plt.ylabel('Away Team')\n",
        "plt.legend(bbox_to_anchor=(1.05, 1), loc='upper left', borderaxespad=0)\n",
        "plt.show()"
      ],
      "id": "97b68993",
      "execution_count": null,
      "outputs": []
    },
    {
      "cell_type": "markdown",
      "metadata": {},
      "source": [
        "## Away Team Impact Worst Teams\n"
      ],
      "id": "d8665f1f"
    },
    {
      "cell_type": "code",
      "metadata": {},
      "source": [
        "away_bottom_30 = away_team_impact.sort_values('away_team_impact', ascending = True).head(30).sort_values(['division', 'away_team_impact'], ascending= [True, True])\n",
        "away_bottom_30 = away_bottom_30.replace({'division':div_dict})\n",
        "sns.barplot(data = away_bottom_30, x = 'away_team_impact', y = 'away_team', hue = 'division', dodge = False)\n",
        "plt.title('Away Teams Impact on Attendance: Bottom 30 Teams')\n",
        "plt.xlabel('Mean Attendnace Increase')\n",
        "plt.legend(bbox_to_anchor=(1.05, 1), loc='upper left', borderaxespad=0)\n",
        "plt.ylabel('Away Team')\n",
        "\n",
        "plt.show()\n"
      ],
      "id": "3fa235fc",
      "execution_count": null,
      "outputs": []
    },
    {
      "cell_type": "markdown",
      "metadata": {},
      "source": [
        "## Division Capacity\n"
      ],
      "id": "5eabe50f"
    },
    {
      "cell_type": "code",
      "metadata": {},
      "source": [
        "div_dict = {'D1':'Bundesliga', 'D2': '2. Bundesliga', 'E0':'Premier League', 'E1':'Championship', \n",
        "            'E2':'League 1', 'E3':'Leauge 2','SP1':'La Liga Primera', 'SP2':'La Liga Segunda',\n",
        "              'B1':'Jupiler League', 'F1':'Ligue 1','F2':'Ligue 2','I1':'Serie A','I2':'Seire B', \n",
        "              'SC0':'Scotish Premier League', 'SC1':'Scotish Division 1', 'T1':'Fubol Ligi 1'}\n",
        "\n",
        "div_avg = impact_data.groupby('division').median().reset_index().sort_values('capacity_filled', ascending = False)\n",
        "div_avg = div_avg.replace({'division':div_dict})\n",
        "# print(div_avg['division'])\n",
        "\n",
        "# away_team_impact.to_csv('src/Teams_impact/away_team_impact.csv')\n",
        "\n",
        "division_fig = sns.barplot(data = div_avg, y='division', x= 'capacity_filled')\n",
        "# plt.bar(div_avg['division'], div_avg['capacity_filled'],  align = 'center')\n",
        "plt.title('Average Capacity Filled By League')\n",
        "plt.xlabel('Average Capacity Filled')\n",
        "plt.ylabel('League')\n",
        "# sns.set_palette(sns.color_palette(\"rocket\"))\n",
        "\n",
        "plt.show()"
      ],
      "id": "988b0303",
      "execution_count": null,
      "outputs": []
    },
    {
      "cell_type": "markdown",
      "metadata": {},
      "source": [
        "## Standardized Best Away Teams Impact\n"
      ],
      "id": "37d196cc"
    },
    {
      "cell_type": "code",
      "metadata": {},
      "source": [
        "away_top_30_std = away_team_impact.sort_values('attendance_zscore', ascending = False).head(30).sort_values(['division', 'away_team_impact'], ascending= [True, False])\n",
        "away_top_30_std = away_top_30_std.replace({'division':div_dict})\n",
        "sns.barplot(data = away_top_30_std, x = 'attendance_zscore', y = 'away_team', hue = 'division', dodge = False)\n",
        "plt.title('Away Teams Impact on Attendance Standardized: Top 30 Teams')\n",
        "plt.xlabel('Z Score of Mean Attendance Increase')\n",
        "plt.legend(bbox_to_anchor=(1.05, 1), loc='upper left', borderaxespad=0)\n",
        "plt.ylabel('Away Team')\n",
        "\n",
        "plt.show()\n"
      ],
      "id": "d3458c15",
      "execution_count": null,
      "outputs": []
    },
    {
      "cell_type": "markdown",
      "metadata": {},
      "source": [
        "## Standardized Worst Away Teams Impact\n"
      ],
      "id": "cd7914a4"
    },
    {
      "cell_type": "code",
      "metadata": {},
      "source": [
        "away_bottom_30_std = away_team_impact.sort_values('attendance_zscore', ascending = True).head(30).sort_values(['division', 'away_team_impact'], ascending= [True, True])\n",
        "away_bottom_30_std = away_bottom_30_std.replace({'division':div_dict})\n",
        "sns.barplot(data = away_bottom_30_std, x = 'attendance_zscore', y = 'away_team', hue = 'division', dodge = False)\n",
        "plt.title('Away Teams Impact on Attendance Standardized: Bottom 30 Teams')\n",
        "plt.xlabel('Z Score of Mean Attendance Increase')\n",
        "plt.legend(bbox_to_anchor=(1.05, 1), loc='upper left', borderaxespad=0)\n",
        "plt.ylabel('Away Team')\n",
        "\n",
        "plt.show()\n"
      ],
      "id": "6f852905",
      "execution_count": null,
      "outputs": []
    },
    {
      "cell_type": "code",
      "metadata": {},
      "source": [
        "# import ipywidgets as widgets\n",
        "# leagues_impact_away_team = away_team_impact\n",
        "# # .sort_values('division').replace({'division':div_dict})\n",
        "# divisions_list = list(set(leagues_impact_away_team.division.values.tolist()))\n",
        "# # print(divisions_list)\n",
        "# # print(sorted(divisions_list))\n",
        "\n",
        "# divisions_list = [div_dict.get(item,item) for item in divisions_list]\n",
        "# # print(divisions_list)\n",
        "\n",
        "\n",
        "# # dd = widgets.Dropdown(\n",
        "# #   options = divisions_list,\n",
        "# #   value = divisions_list[0],\n",
        "# #   description = 'Select a Division'\n",
        "# # )\n",
        "# def draw_plot(divisions_list):\n",
        "\n",
        "#   df = away_team_impact[away_team_impact['division']==divisions_list]\n",
        "\n",
        "#   p = sns.barplot(data = df,\n",
        "#                     x = 'attendance_zscore', y = 'away_team', dodge = False)\n",
        "# division = widgets.Dropdown(options = divisions_list, description = 'Division:')\n",
        "\n",
        "# gui = widgets.interactive(draw_plot, divisions_list = divisions_list)\n",
        "# # display(x)\n",
        "# gui"
      ],
      "id": "a0fdddbf",
      "execution_count": null,
      "outputs": []
    },
    {
      "cell_type": "markdown",
      "metadata": {},
      "source": [
        "## Setbacks\n",
        "\n",
        "- Data Scraping and Processing took significantly longer than expected\n",
        "- Once Scraping and Processing was complete. The questions refereing to a teams position in the league affect on attendance were unattainable\n",
        "  - The position would be columsn that need to be created and with missing data and not a consitent schedule of leagues start date\n",
        "- Calendar Mat plot have been a struggle to get to function properly. \n",
        "\n",
        "## Future Work\n",
        "\n",
        "- Betting Data Analysis\n",
        "- Model for Team Attendance"
      ],
      "id": "7ad82112"
    }
  ],
  "metadata": {
    "kernelspec": {
      "name": "python3",
      "language": "python",
      "display_name": "Python 3 (ipykernel)"
    }
  },
  "nbformat": 4,
  "nbformat_minor": 5
}