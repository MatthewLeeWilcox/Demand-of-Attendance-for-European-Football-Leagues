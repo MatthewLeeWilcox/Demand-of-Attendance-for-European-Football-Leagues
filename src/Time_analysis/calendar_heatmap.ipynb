{
  "cells": [
    {
      "cell_type": "raw",
      "metadata": {},
      "source": [
        "---\n",
        "title: test R calendar heat\n",
        "subtitle: DATA 450 Capstone\n",
        "author: Matthew Wilcox\n",
        "date: today\n",
        "format: html\n",
        "---"
      ],
      "id": "d8d64a93"
    },
    {
      "cell_type": "code",
      "metadata": {},
      "source": [
        "import pandas as pd\n",
        "from datetime import datetime as dt\n",
        "\n",
        "from plotly_calplot import calplot\n",
        "\n",
        "data = pd.read_pickle('d:/Python Work/Capstone/data/final_datasets/Total_data.pkl')\n",
        "\n",
        "data['month_day'] = data['date_time'].dt.strftime('%Y-%m-%d')\n",
        "\n",
        "date_of_year = data.groupby('month_day').count()\n",
        "date_of_year['count'] = date_of_year['home_team']\n",
        "date_of_year = date_of_year['count'].sort_values().reset_index()"
      ],
      "id": "23444e70",
      "execution_count": null,
      "outputs": []
    },
    {
      "cell_type": "code",
      "metadata": {},
      "source": [
        "date_of_year_condensed = date_of_year\n",
        "date_of_year_condensed['month_day'] = '2024-' +date_of_year_condensed['month_day'] \n",
        "# date_of_year_condensed['month_day'] = pd.to_datetime(date_of_year_condensed['month_day'], format = '%Y-%m-%d')"
      ],
      "id": "45833e5e",
      "execution_count": null,
      "outputs": []
    },
    {
      "cell_type": "code",
      "metadata": {},
      "source": [
        "date_of_year['month_day'] = pd.to_datetime(date_of_year['month_day'], format=\"%Y-%m-%d\")\n",
        "print(date_of_year)\n",
        "#\n",
        "\n",
        "# # date_of_year['month_day'] = date_of_year['month_day'].apply(lambda x: x.replace(year = 2024))\n",
        "# # print(date_of_year)"
      ],
      "id": "9165cff5",
      "execution_count": null,
      "outputs": []
    },
    {
      "cell_type": "code",
      "metadata": {},
      "source": [
        "# fig = calplot(date_of_year_condensed, x = 'month_day', y = 'count', years_title=True)\n",
        "# fig.show()\n"
      ],
      "id": "5fb17017",
      "execution_count": null,
      "outputs": []
    },
    {
      "cell_type": "code",
      "metadata": {},
      "source": [
        "fig = calplot(date_of_year[date_of_year['month_day'].dt.year==2010], x = 'month_day', y = 'count', years_title=True)\n",
        "fig.show()"
      ],
      "id": "00fc7dee",
      "execution_count": null,
      "outputs": []
    },
    {
      "cell_type": "code",
      "metadata": {},
      "source": [
        "fig = calplot(date_of_year[date_of_year['month_day'].dt.year==2011], x = 'month_day', y = 'count', years_title=True)\n",
        "fig.show()"
      ],
      "id": "acc9c6c5",
      "execution_count": null,
      "outputs": []
    },
    {
      "cell_type": "code",
      "metadata": {},
      "source": [
        "fig = calplot(date_of_year[date_of_year['month_day'].dt.year==2012], x = 'month_day', y = 'count', years_title=True)\n",
        "fig.show()"
      ],
      "id": "743902f9",
      "execution_count": null,
      "outputs": []
    },
    {
      "cell_type": "code",
      "metadata": {},
      "source": [
        "fig = calplot(date_of_year[date_of_year['month_day'].dt.year==2013], x = 'month_day', y = 'count', years_title=True)\n",
        "fig.show()"
      ],
      "id": "ce35dec4",
      "execution_count": null,
      "outputs": []
    },
    {
      "cell_type": "code",
      "metadata": {},
      "source": [
        "fig = calplot(date_of_year[date_of_year['month_day'].dt.year==2014], x = 'month_day', y = 'count', years_title=True)\n",
        "fig.show()"
      ],
      "id": "5a104c2a",
      "execution_count": null,
      "outputs": []
    },
    {
      "cell_type": "code",
      "metadata": {},
      "source": [
        "fig = calplot(date_of_year[date_of_year['month_day'].dt.year==2015], x = 'month_day', y = 'count', years_title=True)\n",
        "fig.show()"
      ],
      "id": "4e61eb8f",
      "execution_count": null,
      "outputs": []
    },
    {
      "cell_type": "code",
      "metadata": {},
      "source": [
        "fig = calplot(date_of_year[date_of_year['month_day'].dt.year==2016], x = 'month_day', y = 'count', years_title=True)\n",
        "fig.show()"
      ],
      "id": "d0fcbbc4",
      "execution_count": null,
      "outputs": []
    },
    {
      "cell_type": "code",
      "metadata": {},
      "source": [
        "fig = calplot(date_of_year[date_of_year['month_day'].dt.year==2017], x = 'month_day', y = 'count', years_title=True)\n",
        "fig.show()"
      ],
      "id": "218dffaf",
      "execution_count": null,
      "outputs": []
    },
    {
      "cell_type": "code",
      "metadata": {},
      "source": [
        "fig = calplot(date_of_year[date_of_year['month_day'].dt.year==2018], x = 'month_day', y = 'count', years_title=True)\n",
        "fig.show()"
      ],
      "id": "2f9c9825",
      "execution_count": null,
      "outputs": []
    },
    {
      "cell_type": "code",
      "metadata": {},
      "source": [
        "fig = calplot(date_of_year[date_of_year['month_day'].dt.year==2019], x = 'month_day', y = 'count', years_title=True)\n",
        "fig.show()"
      ],
      "id": "2e479d96",
      "execution_count": null,
      "outputs": []
    }
  ],
  "metadata": {
    "kernelspec": {
      "name": "python3",
      "language": "python",
      "display_name": "Python 3 (ipykernel)"
    }
  },
  "nbformat": 4,
  "nbformat_minor": 5
}